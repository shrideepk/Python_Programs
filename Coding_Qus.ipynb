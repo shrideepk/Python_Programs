{
  "nbformat": 4,
  "nbformat_minor": 0,
  "metadata": {
    "colab": {
      "provenance": [],
      "authorship_tag": "ABX9TyOsB/ozumTmD5fIp4kpqJmq",
      "include_colab_link": true
    },
    "kernelspec": {
      "name": "python3",
      "display_name": "Python 3"
    },
    "language_info": {
      "name": "python"
    }
  },
  "cells": [
    {
      "cell_type": "markdown",
      "metadata": {
        "id": "view-in-github",
        "colab_type": "text"
      },
      "source": [
        "<a href=\"https://colab.research.google.com/github/shrideepk/Python_Programs/blob/main/Coding_Qus.ipynb\" target=\"_parent\"><img src=\"https://colab.research.google.com/assets/colab-badge.svg\" alt=\"Open In Colab\"/></a>"
      ]
    },
    {
      "cell_type": "markdown",
      "source": [
        "Qus 1 : Python program to reverse a number with explanation."
      ],
      "metadata": {
        "id": "8kwQosZ4HQwM"
      }
    },
    {
      "cell_type": "code",
      "execution_count": 11,
      "metadata": {
        "colab": {
          "base_uri": "https://localhost:8080/"
        },
        "id": "V6EEcPSTHDtV",
        "outputId": "17197838-31db-459d-96c8-ce259836294a"
      },
      "outputs": [
        {
          "output_type": "stream",
          "name": "stdout",
          "text": [
            "Enter your number :103\n",
            "301\n"
          ]
        }
      ],
      "source": [
        "# Suppose a user gives a number 103 and wants the output 301 for that we can use this program.\n",
        "''' First take the input a number and store in a variable\n",
        "    perform loop operation preferred while loop \n",
        "    get the unit place of number by using mod function\n",
        "    store the value in a new string\n",
        "    do the same till the time loop gets end.\n",
        "'''\n",
        "n=int(input(\"Enter your number :\"))\n",
        "rev=0\n",
        "i=1\n",
        "while i <=n:\n",
        "  j=n%10\n",
        "  rev=rev*10+j\n",
        "  n=n//10\n",
        "print(rev)"
      ]
    },
    {
      "cell_type": "markdown",
      "source": [
        "Qus 2 : Program to check a number is Armstrong or not in python programming language with explaination."
      ],
      "metadata": {
        "id": "oc1sBK455krf"
      }
    },
    {
      "cell_type": "code",
      "source": [],
      "metadata": {
        "id": "g0OEf96G5iJ1"
      },
      "execution_count": null,
      "outputs": []
    },
    {
      "cell_type": "markdown",
      "source": [],
      "metadata": {
        "id": "WHBMvohE5i0w"
      }
    }
  ]
}